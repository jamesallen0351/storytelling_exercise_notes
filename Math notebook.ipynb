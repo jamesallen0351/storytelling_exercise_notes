{
 "cells": [
  {
   "cell_type": "markdown",
   "id": "7aa579ce",
   "metadata": {},
   "source": [
    "# Calculations for new pricing"
   ]
  },
  {
   "cell_type": "code",
   "execution_count": 1,
   "id": "39e6fc40",
   "metadata": {},
   "outputs": [
    {
     "data": {
      "text/plain": [
       "660"
      ]
     },
     "execution_count": 1,
     "metadata": {},
     "output_type": "execute_result"
    }
   ],
   "source": [
    "# average monthly pricing m2m customers $66 for 10 months\n",
    "# 28% price increase\n",
    "# 14% price increase (premium)\n",
    "66 * 10"
   ]
  },
  {
   "cell_type": "code",
   "execution_count": 2,
   "id": "a84bf0c2",
   "metadata": {},
   "outputs": [
    {
     "data": {
      "text/plain": [
       "18.48"
      ]
     },
     "execution_count": 2,
     "metadata": {},
     "output_type": "execute_result"
    }
   ],
   "source": [
    "66 * .28"
   ]
  },
  {
   "cell_type": "code",
   "execution_count": 3,
   "id": "0fdd8c48",
   "metadata": {},
   "outputs": [
    {
     "data": {
      "text/plain": [
       "844.8000000000001"
      ]
     },
     "execution_count": 3,
     "metadata": {},
     "output_type": "execute_result"
    }
   ],
   "source": [
    "(66*10)*1.28 # total payed after 10 months with 28% price increase ???"
   ]
  },
  {
   "cell_type": "code",
   "execution_count": 8,
   "id": "d8ef7898",
   "metadata": {},
   "outputs": [
    {
     "data": {
      "text/plain": [
       "84.48"
      ]
     },
     "execution_count": 8,
     "metadata": {},
     "output_type": "execute_result"
    }
   ],
   "source": [
    "66 +18.48 # new average after 10 month price increase 28 %"
   ]
  },
  {
   "cell_type": "code",
   "execution_count": 4,
   "id": "a7e47598",
   "metadata": {},
   "outputs": [
    {
     "data": {
      "text/plain": [
       "9.24"
      ]
     },
     "execution_count": 4,
     "metadata": {},
     "output_type": "execute_result"
    }
   ],
   "source": [
    "66*.14"
   ]
  },
  {
   "cell_type": "code",
   "execution_count": 7,
   "id": "6b5fd560",
   "metadata": {},
   "outputs": [
    {
     "data": {
      "text/plain": [
       "75.24"
      ]
     },
     "execution_count": 7,
     "metadata": {},
     "output_type": "execute_result"
    }
   ],
   "source": [
    "66 + 9.24 #average monthly premium payment, less drastic price increase"
   ]
  },
  {
   "cell_type": "code",
   "execution_count": 5,
   "id": "6cd5e7c9",
   "metadata": {
    "scrolled": true
   },
   "outputs": [
    {
     "data": {
      "text/plain": [
       "752.4"
      ]
     },
     "execution_count": 5,
     "metadata": {},
     "output_type": "execute_result"
    }
   ],
   "source": [
    "(66*10)*1.14 #overall average after premium payments, "
   ]
  },
  {
   "cell_type": "code",
   "execution_count": 9,
   "id": "04917bb6",
   "metadata": {},
   "outputs": [
    {
     "data": {
      "text/plain": [
       "92.39999999999998"
      ]
     },
     "execution_count": 9,
     "metadata": {},
     "output_type": "execute_result"
    }
   ],
   "source": [
    "752.4 - 660 # additional profit after 10 months premium"
   ]
  },
  {
   "cell_type": "code",
   "execution_count": null,
   "id": "7e50706f",
   "metadata": {},
   "outputs": [],
   "source": []
  }
 ],
 "metadata": {
  "kernelspec": {
   "display_name": "Python 3",
   "language": "python",
   "name": "python3"
  },
  "language_info": {
   "codemirror_mode": {
    "name": "ipython",
    "version": 3
   },
   "file_extension": ".py",
   "mimetype": "text/x-python",
   "name": "python",
   "nbconvert_exporter": "python",
   "pygments_lexer": "ipython3",
   "version": "3.8.8"
  }
 },
 "nbformat": 4,
 "nbformat_minor": 5
}
